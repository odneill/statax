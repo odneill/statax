{
 "cells": [
  {
   "cell_type": "markdown",
   "metadata": {},
   "source": [
    "# Extracting Intermediate Values\n",
    "\n",
    "This notebook shows how to thread state using the Statax `set_state` and `get_state` primitives along with the `stateful` transformation. "
   ]
  },
  {
   "cell_type": "code",
   "execution_count": 48,
   "metadata": {},
   "outputs": [],
   "source": [
    "import jax\n",
    "import jax.numpy as jnp\n",
    "import statax as stx"
   ]
  },
  {
   "cell_type": "markdown",
   "metadata": {},
   "source": [
    "`set_state` acts as a no-op and behaves essentially the same as `save_inter`, but requires a name is given for the state.\n",
    "\n",
    "`get_state` also requires a name in order to access the state, but also requires an initialiser. This is a callable which takes no arguments and returns the initial state."
   ]
  },
  {
   "cell_type": "code",
   "execution_count": 49,
   "metadata": {},
   "outputs": [
    {
     "data": {
      "text/plain": [
       "Array(8., dtype=float32)"
      ]
     },
     "execution_count": 49,
     "metadata": {},
     "output_type": "execute_result"
    }
   ],
   "source": [
    "def f(x):\n",
    "  y = stx.get_state(name=\"y\", init=lambda: 4 * jnp.ones(()))\n",
    "  z = x * y\n",
    "  z = stx.set_state(z, name=\"z\")\n",
    "  return z\n",
    "\n",
    "f(2.0)"
   ]
  },
  {
   "cell_type": "markdown",
   "metadata": {},
   "source": [
    "This works as expected, with the initialiser providing the value for `y` and `set_state` having no impact.\n",
    "\n",
    "When instead we use the `stateful` transformation, the initialiser is used again but the state is threaded out of the function, in the form of a dictionary."
   ]
  },
  {
   "cell_type": "code",
   "execution_count": 50,
   "metadata": {},
   "outputs": [
    {
     "data": {
      "text/plain": [
       "(Array(4., dtype=float32), {'z': Array(4., dtype=float32)})"
      ]
     },
     "execution_count": 50,
     "metadata": {},
     "output_type": "execute_result"
    }
   ],
   "source": [
    "f_state = stx.stateful(f)\n",
    "f_state(1.0)"
   ]
  },
  {
   "cell_type": "markdown",
   "metadata": {},
   "source": [
    "Note, that we only have \"z\" in the output state dictionary and not \"y\". This is an efficiency measure - as we never set \"y\" we know the output will always be the same as the input/ initialiser, so we can avoid threading it out of the function.\n",
    "\n",
    "To force output of all states, we can set `output_unchanged` in the stateful transformation. This adds to the output state dictionary the values of all states, even if they are unchanged."
   ]
  },
  {
   "cell_type": "code",
   "execution_count": 51,
   "metadata": {},
   "outputs": [
    {
     "data": {
      "text/plain": [
       "(Array(8., dtype=float32),\n",
       " {'z': Array(8., dtype=float32), 'y': Array(4., dtype=float32)})"
      ]
     },
     "execution_count": 51,
     "metadata": {},
     "output_type": "execute_result"
    }
   ],
   "source": [
    "f_state = stx.stateful(f, output_unchanged=True)\n",
    "f_state(2.0)"
   ]
  },
  {
   "cell_type": "markdown",
   "metadata": {},
   "source": [
    "We can provide input values for the state by passing in a (potentially partially filled) dictionary of state values."
   ]
  },
  {
   "cell_type": "code",
   "execution_count": 52,
   "metadata": {},
   "outputs": [
    {
     "data": {
      "text/plain": [
       "(Array(6., dtype=float32), {'z': Array(6., dtype=float32), 'y': 3.0})"
      ]
     },
     "execution_count": 52,
     "metadata": {},
     "output_type": "execute_result"
    }
   ],
   "source": [
    "f_state(2.0, state={\"y\": 3.0})"
   ]
  },
  {
   "cell_type": "markdown",
   "metadata": {},
   "source": [
    "States can be any valid PyTree."
   ]
  },
  {
   "cell_type": "code",
   "execution_count": 53,
   "metadata": {},
   "outputs": [
    {
     "data": {
      "text/plain": [
       "((Array(4., dtype=float32), (Array(4., dtype=float32), {'g': 1.0})),\n",
       " {'zy': (Array(4., dtype=float32), (Array(4., dtype=float32), {'g': 1.0}))})"
      ]
     },
     "execution_count": 53,
     "metadata": {},
     "output_type": "execute_result"
    }
   ],
   "source": [
    "def g(x):\n",
    "  y = stx.get_state(name=\"y\", init=lambda: (4 * jnp.ones(()), {\"g\": 1.0}))\n",
    "  z = x * y[0]\n",
    "  z = stx.set_state((z, y), name=\"zy\")\n",
    "  return z\n",
    "\n",
    "stx.stateful(g)(1.0)"
   ]
  },
  {
   "cell_type": "code",
   "execution_count": 54,
   "metadata": {},
   "outputs": [
    {
     "data": {
      "text/plain": [
       "((Array(2., dtype=float32), (2.0, {'g': 0.0})),\n",
       " {'zy': (Array(2., dtype=float32), (2.0, {'g': 0.0}))})"
      ]
     },
     "execution_count": 54,
     "metadata": {},
     "output_type": "execute_result"
    }
   ],
   "source": [
    "stx.stateful(g)(1.0, state={\"y\": (2.0, {\"g\": 0.0})})"
   ]
  },
  {
   "cell_type": "code",
   "execution_count": 55,
   "metadata": {},
   "outputs": [
    {
     "data": {
      "text/plain": [
       "(Array(3., dtype=float32), {'z': Array(3., dtype=float32)})"
      ]
     },
     "execution_count": 55,
     "metadata": {},
     "output_type": "execute_result"
    }
   ],
   "source": [
    "jax.jit(stx.stateful(f))(1.0, state={\"y\": 3.0})"
   ]
  },
  {
   "cell_type": "markdown",
   "metadata": {},
   "source": [
    "We can compose with other JAX transformations, like `jit`, `grad` and `vmap`.\n",
    "\n",
    "Note: we need to set `grad`'s `has_aux` when wrapping a `pull`ed function."
   ]
  },
  {
   "cell_type": "code",
   "execution_count": 56,
   "metadata": {},
   "outputs": [
    {
     "data": {
      "text/plain": [
       "(Array(3., dtype=float32), {'z': Array(3., dtype=float32)})"
      ]
     },
     "execution_count": 56,
     "metadata": {},
     "output_type": "execute_result"
    }
   ],
   "source": [
    "stx.stateful(jax.jit(f))(1.0, state={\"y\": 3.0})"
   ]
  },
  {
   "cell_type": "code",
   "execution_count": 57,
   "metadata": {},
   "outputs": [
    {
     "data": {
      "text/plain": [
       "(Array(3., dtype=float32, weak_type=True), {'z': Array(3., dtype=float32)})"
      ]
     },
     "execution_count": 57,
     "metadata": {},
     "output_type": "execute_result"
    }
   ],
   "source": [
    "stx.stateful(jax.grad(f))(1.0, state={\"y\": 3.0})"
   ]
  },
  {
   "cell_type": "code",
   "execution_count": 58,
   "metadata": {},
   "outputs": [
    {
     "data": {
      "text/plain": [
       "(Array(3., dtype=float32, weak_type=True), {'z': Array(3., dtype=float32)})"
      ]
     },
     "execution_count": 58,
     "metadata": {},
     "output_type": "execute_result"
    }
   ],
   "source": [
    "jax.grad(stx.stateful(f), has_aux=True)(1.0, state={\"y\": 3.0})"
   ]
  },
  {
   "cell_type": "code",
   "execution_count": 59,
   "metadata": {},
   "outputs": [
    {
     "data": {
      "text/plain": [
       "(Array([3., 3., 3., 3., 3., 3., 3., 3., 3., 3.], dtype=float32),\n",
       " {'z': Array([3., 3., 3., 3., 3., 3., 3., 3., 3., 3.], dtype=float32)})"
      ]
     },
     "execution_count": 59,
     "metadata": {},
     "output_type": "execute_result"
    }
   ],
   "source": [
    "stx.stateful(jax.vmap(f))(jnp.ones(10), state={\"y\": 3.0})"
   ]
  },
  {
   "cell_type": "code",
   "execution_count": 60,
   "metadata": {},
   "outputs": [
    {
     "data": {
      "text/plain": [
       "(Array([3., 3., 3., 3., 3., 3., 3., 3., 3., 3.], dtype=float32),\n",
       " {'z': Array([3., 3., 3., 3., 3., 3., 3., 3., 3., 3.], dtype=float32)})"
      ]
     },
     "execution_count": 60,
     "metadata": {},
     "output_type": "execute_result"
    }
   ],
   "source": [
    "jax.vmap(stx.stateful(f))(jnp.ones(10), state={\"y\": jnp.zeros(10) + 3})"
   ]
  },
  {
   "cell_type": "markdown",
   "metadata": {},
   "source": [
    "# Higher order primitives\n",
    "\n",
    "Higher order primitives which perform various operations on functions are supported, but require handlers to be defined for them. Currently only `jax.jit` is implemented, and provides an example implementation.\n",
    "\n",
    "Missing primitives can be implemented by adding a handler of the form `Callable[[JaxprEqn],\n",
    "tuple[JaxprEqn, tuple[StateMeta, ...]]]`\n",
    "\n",
    "As an example of manually handling an unimplemented primitive (`lax.cond`):\n"
   ]
  },
  {
   "cell_type": "code",
   "execution_count": 61,
   "metadata": {},
   "outputs": [
    {
     "name": "stdout",
     "output_type": "stream",
     "text": [
      "Unknown state(s) \"('b',)\" provided in input state\n"
     ]
    },
    {
     "data": {
      "text/plain": [
       "(Array([4., 4., 4., 4., 4., 4., 4., 4., 4., 4.], dtype=float32), {})"
      ]
     },
     "execution_count": 61,
     "metadata": {},
     "output_type": "execute_result"
    }
   ],
   "source": [
    "def inner(a):\n",
    "  b = stx.get_state(name=\"b\", init=lambda: 1.0)\n",
    "  a = a + b\n",
    "  stx.set_state(a, name=\"a\")\n",
    "  return a\n",
    "\n",
    "def outer(a, b):\n",
    "  return jax.lax.cond(b, inner, inner, a)\n",
    "\n",
    "try:\n",
    "  stx.stateful(outer)(jnp.zeros(10) + 3, True, state={\"b\": 2.0})\n",
    "except stx.StateError as e:\n",
    "  print(e)\n",
    "\n",
    "stx.stateful(outer)(jnp.zeros(10) + 3, True)"
   ]
  },
  {
   "cell_type": "markdown",
   "metadata": {},
   "source": [
    "This fails in two stages. First, the functions passed to `cond` aren't parsed by the custom interpreter. This means the interpreter has no knowledge of the \"b\" state, so when we pass the dictionary there is an unknown state error. When we don't pass the state, we see the function runs, but uses the initial values and doesn't return output state. \n",
    "\n",
    "We can fix this by manually passing state through `cond`:"
   ]
  },
  {
   "cell_type": "code",
   "execution_count": 62,
   "metadata": {},
   "outputs": [
    {
     "data": {
      "text/plain": [
       "(Array([5., 5., 5., 5., 5., 5., 5., 5., 5., 5.], dtype=float32),\n",
       " {'a': Array([5., 5., 5., 5., 5., 5., 5., 5., 5., 5.], dtype=float32)})"
      ]
     },
     "execution_count": 62,
     "metadata": {},
     "output_type": "execute_result"
    }
   ],
   "source": [
    "def outer(a, b):\n",
    "\n",
    "  b_s = stx.get_state(name=\"b\", init=lambda: 1.0)\n",
    "\n",
    "  def inner(a):\n",
    "    a = a + b_s\n",
    "    return a\n",
    "\n",
    "  result = jax.lax.cond(b, inner, inner, a)\n",
    "  stx.set_state(result, name=\"a\")\n",
    "\n",
    "  return result\n",
    "\n",
    "stx.stateful(outer)(jnp.zeros(10) + 3, True, state={\"b\": 2.0})"
   ]
  },
  {
   "cell_type": "markdown",
   "metadata": {},
   "source": [
    "Now, we see that the state is threaded correctly."
   ]
  }
 ],
 "metadata": {
  "kernelspec": {
   "display_name": "qrcenvtest",
   "language": "python",
   "name": "python3"
  },
  "language_info": {
   "codemirror_mode": {
    "name": "ipython",
    "version": 3
   },
   "file_extension": ".py",
   "mimetype": "text/x-python",
   "name": "python",
   "nbconvert_exporter": "python",
   "pygments_lexer": "ipython3",
   "version": "3.11.5"
  }
 },
 "nbformat": 4,
 "nbformat_minor": 2
}
