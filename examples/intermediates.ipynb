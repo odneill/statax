{
 "cells": [
  {
   "cell_type": "markdown",
   "metadata": {},
   "source": [
    "# Extracting Intermediate Values\n",
    "\n",
    "This notebook shows how to extract intermediate values from a model using `save_inter` and the `pull` transformation. \n",
    "\n",
    "This is useful for debugging and for understanding how a model works."
   ]
  },
  {
   "cell_type": "code",
   "execution_count": 85,
   "metadata": {},
   "outputs": [],
   "source": [
    "import jax\n",
    "import jax.numpy as jnp\n",
    "import statax as stx"
   ]
  },
  {
   "cell_type": "code",
   "execution_count": 86,
   "metadata": {},
   "outputs": [],
   "source": [
    "def func(x):\n",
    "  y = 4 * x\n",
    "  y = stx.save_inter(y, name=\"y\")\n",
    "  # equivalently:\n",
    "  stx.save_inter(y + 3, name=\"y\")\n",
    "  return jnp.sin(x) + 0.5 * y"
   ]
  },
  {
   "cell_type": "markdown",
   "metadata": {},
   "source": [
    "When called without the `pull` transformation, the function behaves as if `save_inter` behaves is the identity operation."
   ]
  },
  {
   "cell_type": "code",
   "execution_count": 87,
   "metadata": {},
   "outputs": [
    {
     "data": {
      "text/plain": [
       "Array(2.841471, dtype=float32, weak_type=True)"
      ]
     },
     "execution_count": 87,
     "metadata": {},
     "output_type": "execute_result"
    }
   ],
   "source": [
    "func(1.0)"
   ]
  },
  {
   "cell_type": "markdown",
   "metadata": {},
   "source": [
    "When the function is wrapped in a `pull` transformation, it returns a tuple containing its normal output, along with a dictionary of intermediate values. The keys of the dictionary are the names of the intermediate values, appended with \"_n\" to distinguish duplicate names, and the values are the values of the intermediate values.\n",
    "\n",
    "Here we save out `y` which should be `4.0`"
   ]
  },
  {
   "cell_type": "code",
   "execution_count": 88,
   "metadata": {},
   "outputs": [
    {
     "data": {
      "text/plain": [
       "(Array(2.841471, dtype=float32, weak_type=True),\n",
       " {'y_0': Array(4., dtype=float32, weak_type=True),\n",
       "  'y_1': Array(7., dtype=float32, weak_type=True)})"
      ]
     },
     "execution_count": 88,
     "metadata": {},
     "output_type": "execute_result"
    }
   ],
   "source": [
    "stx.pull(func)(1.0)"
   ]
  },
  {
   "cell_type": "markdown",
   "metadata": {},
   "source": [
    "This works for arbitrary pytrees. Here we save out the `y` and `x` values in a tuple."
   ]
  },
  {
   "cell_type": "code",
   "execution_count": 89,
   "metadata": {},
   "outputs": [
    {
     "data": {
      "text/plain": [
       "(Array(2.841471, dtype=float32, weak_type=True),\n",
       " {'yx_0': (Array(4., dtype=float32, weak_type=True), 1.0)})"
      ]
     },
     "execution_count": 89,
     "metadata": {},
     "output_type": "execute_result"
    }
   ],
   "source": [
    "def func(x):\n",
    "  y = 4 * x\n",
    "  stx.save_inter((y, x), name=\"yx\")\n",
    "  return jnp.sin(x) + 0.5 * y\n",
    "\n",
    "stx.pull(func)(1.0)"
   ]
  },
  {
   "cell_type": "code",
   "execution_count": 90,
   "metadata": {},
   "outputs": [
    {
     "data": {
      "text/plain": [
       "(Array(2.841471, dtype=float32, weak_type=True),\n",
       " {'yx_0': (Array(4., dtype=float32, weak_type=True),\n",
       "   Array(1., dtype=float32, weak_type=True))})"
      ]
     },
     "execution_count": 90,
     "metadata": {},
     "output_type": "execute_result"
    }
   ],
   "source": [
    "jax.jit(stx.pull(func))(1.0)"
   ]
  },
  {
   "cell_type": "markdown",
   "metadata": {},
   "source": [
    "We can compose with other JAX transformations, like `jit`, `grad` and `vmap`.\n",
    "\n",
    "Note: we need to set `grad`'s `has_aux` when wrapping a `pull`ed function."
   ]
  },
  {
   "cell_type": "code",
   "execution_count": 91,
   "metadata": {},
   "outputs": [
    {
     "data": {
      "text/plain": [
       "(Array(2.841471, dtype=float32, weak_type=True),\n",
       " {'yx_0': (Array(4., dtype=float32, weak_type=True),\n",
       "   Array(1., dtype=float32, weak_type=True))})"
      ]
     },
     "execution_count": 91,
     "metadata": {},
     "output_type": "execute_result"
    }
   ],
   "source": [
    "stx.pull(jax.jit(func))(1.0)"
   ]
  },
  {
   "cell_type": "code",
   "execution_count": 92,
   "metadata": {},
   "outputs": [
    {
     "data": {
      "text/plain": [
       "(Array(2.841471, dtype=float32, weak_type=True),\n",
       " {'yx_0': (Array(4., dtype=float32, weak_type=True),\n",
       "   Array(1., dtype=float32, weak_type=True))})"
      ]
     },
     "execution_count": 92,
     "metadata": {},
     "output_type": "execute_result"
    }
   ],
   "source": [
    "jax.jit(stx.pull(func))(1.0)"
   ]
  },
  {
   "cell_type": "code",
   "execution_count": 93,
   "metadata": {},
   "outputs": [
    {
     "data": {
      "text/plain": [
       "(Array(2.5403023, dtype=float32, weak_type=True),\n",
       " {'yx_0': (Array(4., dtype=float32, weak_type=True), 1.0)})"
      ]
     },
     "execution_count": 93,
     "metadata": {},
     "output_type": "execute_result"
    }
   ],
   "source": [
    "stx.pull(jax.grad(func))(1.0)"
   ]
  },
  {
   "cell_type": "code",
   "execution_count": 94,
   "metadata": {},
   "outputs": [
    {
     "data": {
      "text/plain": [
       "(Array(2.5403023, dtype=float32, weak_type=True),\n",
       " {'yx_0': (Array(4., dtype=float32, weak_type=True), 1.0)})"
      ]
     },
     "execution_count": 94,
     "metadata": {},
     "output_type": "execute_result"
    }
   ],
   "source": [
    "jax.grad(stx.pull(func), has_aux=True)(1.0)"
   ]
  },
  {
   "cell_type": "code",
   "execution_count": 95,
   "metadata": {},
   "outputs": [
    {
     "data": {
      "text/plain": [
       "(Array([2.841471, 2.841471, 2.841471, 2.841471, 2.841471, 2.841471,\n",
       "        2.841471, 2.841471, 2.841471, 2.841471], dtype=float32),\n",
       " {'yx_0': (Array([4., 4., 4., 4., 4., 4., 4., 4., 4., 4.], dtype=float32),\n",
       "   Array([1., 1., 1., 1., 1., 1., 1., 1., 1., 1.], dtype=float32))})"
      ]
     },
     "execution_count": 95,
     "metadata": {},
     "output_type": "execute_result"
    }
   ],
   "source": [
    "stx.pull(jax.vmap(func))(jnp.ones(10))"
   ]
  },
  {
   "cell_type": "code",
   "execution_count": 96,
   "metadata": {},
   "outputs": [
    {
     "data": {
      "text/plain": [
       "(Array([2.841471, 2.841471, 2.841471, 2.841471, 2.841471, 2.841471,\n",
       "        2.841471, 2.841471, 2.841471, 2.841471], dtype=float32),\n",
       " {'yx_0': (Array([4., 4., 4., 4., 4., 4., 4., 4., 4., 4.], dtype=float32),\n",
       "   Array([1., 1., 1., 1., 1., 1., 1., 1., 1., 1.], dtype=float32))})"
      ]
     },
     "execution_count": 96,
     "metadata": {},
     "output_type": "execute_result"
    }
   ],
   "source": [
    "jax.vmap(stx.pull(func))(jnp.ones(10))"
   ]
  },
  {
   "cell_type": "markdown",
   "metadata": {},
   "source": [
    "# Higher order primitives\n",
    "\n",
    "Higher order primitives which perform various operations on functions are supported, but require handlers to be defined for them. Currently only `jax.jit` is implemented, and provides an example implementation.\n",
    "\n",
    "Missing primitives can be implemented by adding a handler of the form `Callable[[JaxprEqn],\n",
    "tuple[JaxprEqn, tuple[StateMeta, ...]]]`\n",
    "\n",
    "As an example of manually handling an unimplemented primitive (`lax.cond`):\n"
   ]
  },
  {
   "cell_type": "code",
   "execution_count": 97,
   "metadata": {},
   "outputs": [
    {
     "data": {
      "text/plain": [
       "(Array([3., 3., 3., 3., 3., 3., 3., 3., 3., 3.], dtype=float32), {})"
      ]
     },
     "execution_count": 97,
     "metadata": {},
     "output_type": "execute_result"
    }
   ],
   "source": [
    "def inner(a):\n",
    "  stx.save_inter(a)\n",
    "  return a\n",
    "\n",
    "def outer(a, b):\n",
    "  return jax.lax.cond(b, inner, inner, a)\n",
    "\n",
    "stx.pull(outer)(jnp.zeros(10) + 3, True)"
   ]
  },
  {
   "cell_type": "markdown",
   "metadata": {},
   "source": [
    "This fails as the functions passed to cond aren't parsed by the custom interpreter. We can fix this by revealing the intermediate values inside the inner function, passing them out, then rehiding them with another `save_inter` call."
   ]
  },
  {
   "cell_type": "code",
   "execution_count": 98,
   "metadata": {},
   "outputs": [
    {
     "data": {
      "text/plain": [
       "(Array([3., 3., 3., 3., 3., 3., 3., 3., 3., 3.], dtype=float32),\n",
       " {'state_0': (Array([3., 3., 3., 3., 3., 3., 3., 3., 3., 3.], dtype=float32),)})"
      ]
     },
     "execution_count": 98,
     "metadata": {},
     "output_type": "execute_result"
    }
   ],
   "source": [
    "def wrapped_inner(*args):\n",
    "  result, inters = stx.pull(inner)(*args)\n",
    "  return result, inters\n",
    "\n",
    "def outer_updated(a, b):\n",
    "  result, inters = jax.lax.cond(b, wrapped_inner, wrapped_inner, a)\n",
    "  stx.save_inter(tuple(inters.values()))\n",
    "  return result\n",
    "\n",
    "stx.pull(outer_updated)(jnp.zeros(10) + 3, True)"
   ]
  }
 ],
 "metadata": {
  "kernelspec": {
   "display_name": "qrcenvtest",
   "language": "python",
   "name": "python3"
  },
  "language_info": {
   "codemirror_mode": {
    "name": "ipython",
    "version": 3
   },
   "file_extension": ".py",
   "mimetype": "text/x-python",
   "name": "python",
   "nbconvert_exporter": "python",
   "pygments_lexer": "ipython3",
   "version": "3.11.5"
  }
 },
 "nbformat": 4,
 "nbformat_minor": 2
}
